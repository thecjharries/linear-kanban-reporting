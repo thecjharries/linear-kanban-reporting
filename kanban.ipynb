{
 "cells": [
  {
   "cell_type": "code",
   "execution_count": null,
   "metadata": {},
   "outputs": [],
   "source": [
    "import pandas as pd\n",
    "from datetime import datetime\n",
    "from IPython.display import Markdown as md\n",
    "\n",
    "\n",
    "def timedelta_to_hours_rounded(td, precision=2):\n",
    "    return round(td.total_seconds() / 60 / 60, precision)\n",
    "\n",
    "\n",
    "# Read the data\n",
    "data = pd.read_csv('scratch.data.csv')\n",
    "\n",
    "# Remove empty start dates\n",
    "data_filtered = data[~data['Started'].isna()]\n",
    "# Just to be safe also remove empty end dates\n",
    "data_filtered = data_filtered[~data_filtered['Completed'].isna()]\n",
    "\n",
    "# Create the new data frame\n",
    "df = pd.DataFrame(columns=['Task', 'Start', 'Finish', 'Resource'])\n",
    "\n",
    "# Add the data\n",
    "df['Task'] = data_filtered['ID']\n",
    "df['Start'] = pd.to_datetime(data_filtered['Started'])\n",
    "df['Finish'] = pd.to_datetime(data_filtered['Completed'])\n",
    "df['Duration'] = df['Finish'] - df['Start']\n",
    "df['Resource'] = data_filtered['Assignee']\n",
    "\n",
    "# Define primary stats\n",
    "throughput = len(df)\n",
    "mean_duration = timedelta_to_hours_rounded(df['Duration'].mean())\n",
    "median_duration = timedelta_to_hours_rounded(df['Duration'].median())\n",
    "min_duration = timedelta_to_hours_rounded(df['Duration'].min())\n",
    "max_duration = timedelta_to_hours_rounded(df['Duration'].max())\n",
    "\n",
    "md(\"\"\"\n",
    "\\\\begin{{align*}}\n",
    "  \\\\textbf{{Throughput}} &= {} \\\\text{{ cards}}\\\\\\\\\n",
    "  \\\\textbf{{Mean}} &= {} \\\\text{{ hours}}\\\\\\\\\n",
    "  \\\\textbf{{Median}} &= {} \\\\text{{ hours}}\\\\\\\\\n",
    "  \\\\textbf{{Min}} &= {} \\\\text{{ hours}}\\\\\\\\\n",
    "  \\\\textbf{{Max}} &= {} \\\\text{{ hours}}\\\\\\\\\n",
    "\\\\end{{align*}}\n",
    "\"\"\".format(\n",
    "    throughput,\n",
    "    mean_duration,\n",
    "    median_duration,\n",
    "    min_duration,\n",
    "    max_duration,\n",
    "))\n"
   ]
  }
 ],
 "metadata": {
  "kernelspec": {
   "display_name": "Python 3 (ipykernel)",
   "language": "python",
   "name": "python3"
  },
  "language_info": {
   "codemirror_mode": {
    "name": "ipython",
    "version": 3
   },
   "file_extension": ".py",
   "mimetype": "text/x-python",
   "name": "python",
   "nbconvert_exporter": "python",
   "pygments_lexer": "ipython3",
   "version": "3.10.9"
  }
 },
 "nbformat": 4,
 "nbformat_minor": 2
}
